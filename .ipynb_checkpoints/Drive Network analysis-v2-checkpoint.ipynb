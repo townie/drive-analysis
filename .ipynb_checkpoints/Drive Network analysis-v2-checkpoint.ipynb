{
 "cells": [
  {
   "cell_type": "code",
   "execution_count": 1,
   "metadata": {
    "collapsed": true
   },
   "outputs": [],
   "source": [
    "from matplotlib import pyplot as plt\n",
    "from pandas import pandas as pd\n",
    "import networkx as nx\n",
    "%matplotlib inline"
   ]
  },
  {
   "cell_type": "code",
   "execution_count": 11,
   "metadata": {
    "collapsed": true
   },
   "outputs": [],
   "source": [
    "def visualize_graph(G, pos=None, return_internals=False):\n",
    "    # ignore it, we'll come back later\n",
    "    if pos is None:\n",
    "        pos = pos=nx.spring_layout(G)\n",
    "    nx.draw(G, pos)\n",
    "    _mute = nx.draw_networkx_nodes(G, pos, node_color='#ccccff')\n",
    "    _mute = nx.draw_networkx_edges(G, pos, width=1.0, alpha=0.5)\n",
    "    _mute = nx.draw_networkx_labels(G, pos)\n",
    "    edge_labels = {}\n",
    "    for e in G.edges():\n",
    "        edge_labels[e] = ','.join(['%s=%s' % (k,v) for (k, v) in G[e[0]][e[1]].items()])\n",
    "    _mute = nx.draw_networkx_edge_labels(G, pos)\n",
    "    if return_internals:\n",
    "        return pos, labels, edge_labels"
   ]
  },
  {
   "cell_type": "code",
   "execution_count": 12,
   "metadata": {
    "collapsed": true
   },
   "outputs": [],
   "source": [
    "G = nx.Graph()"
   ]
  },
  {
   "cell_type": "code",
   "execution_count": 4,
   "metadata": {
    "collapsed": false
   },
   "outputs": [
    {
     "data": {
      "image/png": "[encoded data removed]",
      "text/plain": [
       "<matplotlib.figure.Figure at 0x7f2df2f62e50>"
      ]
     },
     "metadata": {},
     "output_type": "display_data"
    }
   ],
   "source": [
    "# Add single node\n",
    "G.add_node(1, id=\"1c0RWzfRDQg1FSZH6u-sShIWI2pZGD6PV0xjxY-1U2eg\", pid = \"0B1qO9IFXquq6MkpxbDZfWVA4Rms\", title=\"blah\")\n",
    "G.add_node(2, id=\"1c0RWzfRDasdasdasdasdas2pZGD6PV0xjxY-1U2eg\", pid = \"0B1qO9IFXquq6MkpxbDZfWVA4Rms\", title=\"blah\")\n",
    "\n",
    "# Visualize the graph\n",
    "visualize_graph(G)"
   ]
  },
  {
   "cell_type": "code",
   "execution_count": 63,
   "metadata": {
    "collapsed": false
   },
   "outputs": [],
   "source": [
    "node_3 = (\"asdsdasd\",'0B1qO9IFWVA4Rms',{'pid' : \"\", 'title':\"blah\"})\n",
    "node_2 = (\"1c0RWzfRDasdasd333asdasasdasd2eg\",'0B1qO9IFWVA4Rms',{ 'pid':\"0B1qO9IFWVA4Rms\", 'title':\"blah\", \"color\": \"g\" ,'node_color':'b'})\n",
    "G.add_edges_from([node_2, node_3])\n",
    "\n"
   ]
  },
  {
   "cell_type": "code",
   "execution_count": null,
   "metadata": {
    "collapsed": false
   },
   "outputs": [],
   "source": [
    "nx.draw_networkx(G,with_labels=False)"
   ]
  },
  {
   "cell_type": "code",
   "execution_count": null,
   "metadata": {
    "collapsed": false
   },
   "outputs": [],
   "source": []
  },
  {
   "cell_type": "code",
   "execution_count": 7,
   "metadata": {
    "collapsed": false
   },
   "outputs": [],
   "source": [
    "from pandas import read_csv\n",
    "\n",
    "df = pd.read_csv('kw_drive.csv')"
   ]
  },
  {
   "cell_type": "code",
   "execution_count": 13,
   "metadata": {
    "collapsed": false
   },
   "outputs": [],
   "source": [
    "prev = (0,0,{})\n",
    "for index,row in df.iterrows():\n",
    "    if row['type'] == 'folder':\n",
    "        new_node = (row['id'],row['parentid'])\n",
    "        G.add_edges_from([new_node, prev])\n",
    "        prev = new_node"
   ]
  },
  {
   "cell_type": "code",
   "execution_count": null,
   "metadata": {
    "collapsed": false
   },
   "outputs": [],
   "source": []
  },
  {
   "cell_type": "code",
   "execution_count": 9,
   "metadata": {
    "collapsed": true
   },
   "outputs": [],
   "source": [
    "nx.write_graphml(G,'so.graphml')"
   ]
  },
  {
   "cell_type": "code",
   "execution_count": null,
   "metadata": {
    "collapsed": false
   },
   "outputs": [],
   "source": [
    "visualize_graph(G)"
   ]
  },
  {
   "cell_type": "code",
   "execution_count": null,
   "metadata": {
    "collapsed": true
   },
   "outputs": [],
   "source": []
  }
 ],
 "metadata": {
  "kernelspec": {
   "display_name": "Python 2",
   "language": "python",
   "name": "python2"
  },
  "language_info": {
   "codemirror_mode": {
    "name": "ipython",
    "version": 2
   },
   "file_extension": ".py",
   "mimetype": "text/x-python",
   "name": "python",
   "nbconvert_exporter": "python",
   "pygments_lexer": "ipython2",
   "version": "2.7.11"
  }
 },
 "nbformat": 4,
 "nbformat_minor": 0
}
